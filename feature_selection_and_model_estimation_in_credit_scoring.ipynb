{
 "cells": [
  {
   "cell_type": "markdown",
   "metadata": {},
   "source": [
    "# 0. Introduction"
   ]
  },
  {
   "cell_type": "markdown",
   "metadata": {},
   "source": [
    "## Structure of notebook\n",
    "This notebook contains the codes that were used to explain feature selection and model estimation in the credit scoring industry.\n",
    "\n",
    "The first half of the notebook explains how forward stepwise selection can be implemented to choose the right number and the right combination of variables using the sample dataset. The original code was adapted from [here](http://www.science.smith.edu/~jcrouser/SDS293/labs/2016/lab8/Lab%208%20-%20Subset%20Selection%20in%20Python.pdf).\n",
    "\n",
    "The latter half of the notebook explains how algorithms are trained using a dummy example and linear regression, then compares the various performance metrics of different classification algorithms using the sample dataset.\n",
    "\n",
    "\n",
    "## About the sample dataset\n",
    "The original dataset used in this notebook is from the Kaggle competiton [Give Me some Credit](https://www.kaggle.com/c/GiveMeSomeCredit). The dataset contains information on 250,000 borrowers. The target variable is a binary variable, where 1 indicates the individual will experience financial distress in the next 2 years.\n",
    "\n",
    "\n"
   ]
  },
  {
   "cell_type": "markdown",
   "metadata": {},
   "source": [
    "## Setting working environment"
   ]
  },
  {
   "cell_type": "code",
   "execution_count": 1,
   "metadata": {},
   "outputs": [
    {
     "name": "stderr",
     "output_type": "stream",
     "text": [
      "/Users/jk6653284/anaconda/lib/python3.6/site-packages/statsmodels/compat/pandas.py:56: FutureWarning: The pandas.core.datetools module is deprecated and will be removed in a future version. Please use the pandas.tseries module instead.\n",
      "  from pandas.core import datetools\n"
     ]
    }
   ],
   "source": [
    "# import standard libraries\n",
    "import pandas as pd\n",
    "import numpy as np\n",
    "import matplotlib.pyplot as plt\n",
    "import seaborn as sns\n",
    "import time\n",
    "\n",
    "%matplotlib inline\n",
    "pd.set_option(\"max_columns\", None)"
   ]
  },
  {
   "cell_type": "code",
   "execution_count": 42,
   "metadata": {
    "collapsed": true
   },
   "outputs": [],
   "source": [
    "# read in dataset\n",
    "train = pd.read_csv(\"cs-training.csv\")\n",
    "test = pd.read_csv(\"cs-test.csv\")\n",
    "\n",
    "# drop id, as it is not needed for this analysis\n",
    "train = train.drop(\"Unnamed: 0\", axis = 1)\n",
    "test = test.drop(\"Unnamed: 0\", axis = 1)"
   ]
  },
  {
   "cell_type": "markdown",
   "metadata": {},
   "source": [
    "# 1. Feature selection"
   ]
  },
  {
   "cell_type": "code",
   "execution_count": 43,
   "metadata": {
    "collapsed": true
   },
   "outputs": [],
   "source": [
    "# import libraries to create forward selection from scratch\n",
    "import itertools\n",
    "import statsmodels.api as sm"
   ]
  },
  {
   "cell_type": "code",
   "execution_count": 59,
   "metadata": {
    "collapsed": true
   },
   "outputs": [],
   "source": [
    "# concat training and test data\n",
    "df = pd.concat([train,test], axis = 0)\n",
    "\n",
    "# drop null rows\n",
    "df = df.dropna(axis = 0)\n",
    "\n",
    "# create X and y\n",
    "y = df.SeriousDlqin2yrs\n",
    "X = df.drop(['SeriousDlqin2yrs'], axis = 1)"
   ]
  },
  {
   "cell_type": "markdown",
   "metadata": {},
   "source": [
    "We can perform best subset selection by identifying the best model that contains a given number of predictors, where best is quantified using RSS."
   ]
  },
  {
   "cell_type": "code",
   "execution_count": 60,
   "metadata": {
    "collapsed": true
   },
   "outputs": [],
   "source": [
    "# function to use subset of feature sets\n",
    "# fit the model, and retrieve RSS scores\n",
    "def processSubset(feature_set): \n",
    "    model = sm.OLS(y,X[list(feature_set)])\n",
    "    regr = model.fit()\n",
    "    RSS = ((regr.predict(X[list(feature_set)]) - y) ** 2).sum()\n",
    "    return {\"model\":regr, \"RSS\":RSS}\n",
    "\n",
    "# function to retrieve the best model with best features combination \n",
    "def getBest(k):\n",
    "    tic = time.time()\n",
    "    results = []\n",
    "    for combo in itertools.combinations(X.columns, k):\n",
    "        results.append(processSubset(combo)) # Wrap everything up in a nice dataframe\n",
    "    models = pd.DataFrame(results) # Choose the model with the highest RSS\n",
    "    best_model = models.loc[models['RSS'].argmin()]\n",
    "    toc = time.time()\n",
    "    print(\"Processed \", models.shape[0], \"models on\", k, \"predictors in\", (toc-tic), \"seconds.\") # Return the best model, along with some other useful information about the model\n",
    "    return best_model\n",
    "\n",
    "\n",
    "def forward(predictors): \n",
    "    # Pull out predictors we still need to process\n",
    "    remaining_predictors = [p for p in X.columns if p not in predictors]\n",
    "    tic = time.time()\n",
    "    results = []\n",
    "    for p in remaining_predictors:\n",
    "        results.append(processSubset(predictors+[p])) \n",
    "        \n",
    "    # Wrap everything up in a nice dataframe \n",
    "    models = pd.DataFrame(results) \n",
    "    \n",
    "    # Choose the model with the highest RSS \n",
    "    best_model = models.loc[models['RSS'].argmin()]\n",
    "    toc = time.time()\n",
    "    print(\"Processed \", models.shape[0], \"models on\", len(predictors)+1, \"predictors in\", (toc-tic), \"seconds.\")\n",
    "    \n",
    "    # Return the best model, along with some other useful information about the model\n",
    "    return best_model"
   ]
  },
  {
   "cell_type": "code",
   "execution_count": 61,
   "metadata": {
    "scrolled": true
   },
   "outputs": [
    {
     "name": "stderr",
     "output_type": "stream",
     "text": [
      "/Users/jk6653284/anaconda/lib/python3.6/site-packages/ipykernel_launcher.py:16: FutureWarning: 'argmin' is deprecated. Use 'idxmin' instead. The behavior of 'argmin' will be corrected to return the positional minimum in the future. Use 'series.values.argmin' to get the position of the minimum now.\n",
      "  app.launch_new_instance()\n"
     ]
    },
    {
     "name": "stdout",
     "output_type": "stream",
     "text": [
      "Processed  10 models on 1 predictors in 0.1136159896850586 seconds.\n",
      "Processed  45 models on 2 predictors in 0.774317741394043 seconds.\n",
      "Processed  120 models on 3 predictors in 3.0936079025268555 seconds.\n",
      "Processed  210 models on 4 predictors in 6.667226076126099 seconds.\n",
      "Processed  252 models on 5 predictors in 10.160486936569214 seconds.\n",
      "Processed  210 models on 6 predictors in 10.610844850540161 seconds.\n",
      "Processed  120 models on 7 predictors in 7.457716941833496 seconds.\n",
      "Total elapsed time: 38.904654026031494 seconds.\n"
     ]
    }
   ],
   "source": [
    "# create dataframe to see which feature selection combinations\n",
    "# for each k number of features is the best\n",
    "models = pd.DataFrame(columns=[\"RSS\", \"model\"])\n",
    "tic = time.time()\n",
    "for i in range(1,8):\n",
    "    models.loc[i] = getBest(i)\n",
    "toc = time.time()\n",
    "print(\"Total elapsed time:\", (toc-tic), \"seconds.\")"
   ]
  },
  {
   "cell_type": "code",
   "execution_count": 62,
   "metadata": {},
   "outputs": [
    {
     "data": {
      "text/html": [
       "<div>\n",
       "<style scoped>\n",
       "    .dataframe tbody tr th:only-of-type {\n",
       "        vertical-align: middle;\n",
       "    }\n",
       "\n",
       "    .dataframe tbody tr th {\n",
       "        vertical-align: top;\n",
       "    }\n",
       "\n",
       "    .dataframe thead th {\n",
       "        text-align: right;\n",
       "    }\n",
       "</style>\n",
       "<table border=\"1\" class=\"dataframe\">\n",
       "  <thead>\n",
       "    <tr style=\"text-align: right;\">\n",
       "      <th></th>\n",
       "      <th>RSS</th>\n",
       "      <th>model</th>\n",
       "    </tr>\n",
       "  </thead>\n",
       "  <tbody>\n",
       "    <tr>\n",
       "      <th>1</th>\n",
       "      <td>7926.621721</td>\n",
       "      <td>&lt;statsmodels.regression.linear_model.Regressio...</td>\n",
       "    </tr>\n",
       "    <tr>\n",
       "      <th>2</th>\n",
       "      <td>7792.828753</td>\n",
       "      <td>&lt;statsmodels.regression.linear_model.Regressio...</td>\n",
       "    </tr>\n",
       "    <tr>\n",
       "      <th>3</th>\n",
       "      <td>7622.560133</td>\n",
       "      <td>&lt;statsmodels.regression.linear_model.Regressio...</td>\n",
       "    </tr>\n",
       "    <tr>\n",
       "      <th>4</th>\n",
       "      <td>7548.078274</td>\n",
       "      <td>&lt;statsmodels.regression.linear_model.Regressio...</td>\n",
       "    </tr>\n",
       "    <tr>\n",
       "      <th>5</th>\n",
       "      <td>7503.496443</td>\n",
       "      <td>&lt;statsmodels.regression.linear_model.Regressio...</td>\n",
       "    </tr>\n",
       "    <tr>\n",
       "      <th>6</th>\n",
       "      <td>7500.762698</td>\n",
       "      <td>&lt;statsmodels.regression.linear_model.Regressio...</td>\n",
       "    </tr>\n",
       "    <tr>\n",
       "      <th>7</th>\n",
       "      <td>7499.855863</td>\n",
       "      <td>&lt;statsmodels.regression.linear_model.Regressio...</td>\n",
       "    </tr>\n",
       "  </tbody>\n",
       "</table>\n",
       "</div>"
      ],
      "text/plain": [
       "           RSS                                              model\n",
       "1  7926.621721  <statsmodels.regression.linear_model.Regressio...\n",
       "2  7792.828753  <statsmodels.regression.linear_model.Regressio...\n",
       "3  7622.560133  <statsmodels.regression.linear_model.Regressio...\n",
       "4  7548.078274  <statsmodels.regression.linear_model.Regressio...\n",
       "5  7503.496443  <statsmodels.regression.linear_model.Regressio...\n",
       "6  7500.762698  <statsmodels.regression.linear_model.Regressio...\n",
       "7  7499.855863  <statsmodels.regression.linear_model.Regressio..."
      ]
     },
     "execution_count": 62,
     "metadata": {},
     "output_type": "execute_result"
    }
   ],
   "source": [
    "# view the dataframe and see the RSS value for\n",
    "# the best for each number of features\n",
    "models"
   ]
  },
  {
   "cell_type": "code",
   "execution_count": 63,
   "metadata": {
    "scrolled": true
   },
   "outputs": [
    {
     "name": "stdout",
     "output_type": "stream",
     "text": [
      "                            OLS Regression Results                            \n",
      "==============================================================================\n",
      "Dep. Variable:       SeriousDlqin2yrs   R-squared:                       0.068\n",
      "Model:                            OLS   Adj. R-squared:                  0.067\n",
      "Method:                 Least Squares   F-statistic:                     4353.\n",
      "Date:                Mon, 19 Mar 2018   Prob (F-statistic):               0.00\n",
      "Time:                        20:47:31   Log-Likelihood:                -6094.6\n",
      "No. Observations:              120269   AIC:                         1.219e+04\n",
      "Df Residuals:                  120267   BIC:                         1.221e+04\n",
      "Df Model:                           2                                         \n",
      "Covariance Type:            nonrobust                                         \n",
      "========================================================================================================\n",
      "                                           coef    std err          t      P>|t|      [0.025      0.975]\n",
      "--------------------------------------------------------------------------------------------------------\n",
      "age                                      0.0011   1.38e-05     77.017      0.000       0.001       0.001\n",
      "NumberOfTime30-59DaysPastDueNotWorse     0.0095      0.000     45.440      0.000       0.009       0.010\n",
      "==============================================================================\n",
      "Omnibus:                    79827.278   Durbin-Watson:                   1.989\n",
      "Prob(Omnibus):                  0.000   Jarque-Bera (JB):           671984.733\n",
      "Skew:                           3.322   Prob(JB):                         0.00\n",
      "Kurtosis:                      12.484   Cond. No.                         15.2\n",
      "==============================================================================\n",
      "\n",
      "Warnings:\n",
      "[1] Standard Errors assume that the covariance matrix of the errors is correctly specified.\n"
     ]
    }
   ],
   "source": [
    "# access details of best model with 2 variables\n",
    "print(models.loc[2, \"model\"].summary())"
   ]
  },
  {
   "cell_type": "markdown",
   "metadata": {},
   "source": [
    "We can see that the best model with 2 features uses 'NumberOfTime30-59DaysPastDueNotWorse' and 'age' as the predictor variables."
   ]
  },
  {
   "cell_type": "code",
   "execution_count": 64,
   "metadata": {},
   "outputs": [
    {
     "name": "stderr",
     "output_type": "stream",
     "text": [
      "/Users/jk6653284/anaconda/lib/python3.6/site-packages/ipykernel_launcher.py:34: FutureWarning: 'argmin' is deprecated. Use 'idxmin' instead. The behavior of 'argmin' will be corrected to return the positional minimum in the future. Use 'series.values.argmin' to get the position of the minimum now.\n"
     ]
    },
    {
     "name": "stdout",
     "output_type": "stream",
     "text": [
      "Processed  10 models on 1 predictors in 0.10665011405944824 seconds.\n",
      "Processed  9 models on 2 predictors in 0.15630793571472168 seconds.\n",
      "Processed  8 models on 3 predictors in 0.18880081176757812 seconds.\n",
      "Processed  7 models on 4 predictors in 0.22074413299560547 seconds.\n",
      "Processed  6 models on 5 predictors in 0.24050426483154297 seconds.\n",
      "Processed  5 models on 6 predictors in 0.2804388999938965 seconds.\n",
      "Processed  4 models on 7 predictors in 0.299083948135376 seconds.\n",
      "Processed  3 models on 8 predictors in 0.23299098014831543 seconds.\n",
      "Processed  2 models on 9 predictors in 0.1602790355682373 seconds.\n",
      "Processed  1 models on 10 predictors in 0.09009504318237305 seconds.\n",
      "Total elapsed time: 2.0207841396331787 seconds.\n"
     ]
    }
   ],
   "source": [
    "# create dataframe to see which feature selection combinations\n",
    "# for each k number of features is the best\n",
    "# using the forward stepwise method\n",
    "\n",
    "models2 = pd.DataFrame(columns=[\"RSS\", \"model\"])\n",
    "tic = time.time()\n",
    "predictors = []\n",
    "for i in range(1,len(X.columns)+1):\n",
    "    models2.loc[i] = forward(predictors)\n",
    "    predictors = models2.loc[i][\"model\"].model.exog_names\n",
    "toc = time.time()\n",
    "print(\"Total elapsed time:\", (toc-tic), \"seconds.\")"
   ]
  },
  {
   "cell_type": "markdown",
   "metadata": {},
   "source": [
    "As you can see, the time taken to process the iteration is much shorter. Let's compare the result by looking at the model with 2 features."
   ]
  },
  {
   "cell_type": "code",
   "execution_count": 66,
   "metadata": {},
   "outputs": [
    {
     "data": {
      "text/html": [
       "<div>\n",
       "<style scoped>\n",
       "    .dataframe tbody tr th:only-of-type {\n",
       "        vertical-align: middle;\n",
       "    }\n",
       "\n",
       "    .dataframe tbody tr th {\n",
       "        vertical-align: top;\n",
       "    }\n",
       "\n",
       "    .dataframe thead th {\n",
       "        text-align: right;\n",
       "    }\n",
       "</style>\n",
       "<table border=\"1\" class=\"dataframe\">\n",
       "  <thead>\n",
       "    <tr style=\"text-align: right;\">\n",
       "      <th></th>\n",
       "      <th>RSS</th>\n",
       "      <th>model</th>\n",
       "    </tr>\n",
       "  </thead>\n",
       "  <tbody>\n",
       "    <tr>\n",
       "      <th>1</th>\n",
       "      <td>7926.621721</td>\n",
       "      <td>&lt;statsmodels.regression.linear_model.Regressio...</td>\n",
       "    </tr>\n",
       "    <tr>\n",
       "      <th>2</th>\n",
       "      <td>7792.828753</td>\n",
       "      <td>&lt;statsmodels.regression.linear_model.Regressio...</td>\n",
       "    </tr>\n",
       "    <tr>\n",
       "      <th>3</th>\n",
       "      <td>7622.560133</td>\n",
       "      <td>&lt;statsmodels.regression.linear_model.Regressio...</td>\n",
       "    </tr>\n",
       "    <tr>\n",
       "      <th>4</th>\n",
       "      <td>7548.078274</td>\n",
       "      <td>&lt;statsmodels.regression.linear_model.Regressio...</td>\n",
       "    </tr>\n",
       "    <tr>\n",
       "      <th>5</th>\n",
       "      <td>7503.496443</td>\n",
       "      <td>&lt;statsmodels.regression.linear_model.Regressio...</td>\n",
       "    </tr>\n",
       "    <tr>\n",
       "      <th>6</th>\n",
       "      <td>7500.762698</td>\n",
       "      <td>&lt;statsmodels.regression.linear_model.Regressio...</td>\n",
       "    </tr>\n",
       "    <tr>\n",
       "      <th>7</th>\n",
       "      <td>7499.855863</td>\n",
       "      <td>&lt;statsmodels.regression.linear_model.Regressio...</td>\n",
       "    </tr>\n",
       "    <tr>\n",
       "      <th>8</th>\n",
       "      <td>7498.993753</td>\n",
       "      <td>&lt;statsmodels.regression.linear_model.Regressio...</td>\n",
       "    </tr>\n",
       "    <tr>\n",
       "      <th>9</th>\n",
       "      <td>7498.971127</td>\n",
       "      <td>&lt;statsmodels.regression.linear_model.Regressio...</td>\n",
       "    </tr>\n",
       "    <tr>\n",
       "      <th>10</th>\n",
       "      <td>7498.959617</td>\n",
       "      <td>&lt;statsmodels.regression.linear_model.Regressio...</td>\n",
       "    </tr>\n",
       "  </tbody>\n",
       "</table>\n",
       "</div>"
      ],
      "text/plain": [
       "            RSS                                              model\n",
       "1   7926.621721  <statsmodels.regression.linear_model.Regressio...\n",
       "2   7792.828753  <statsmodels.regression.linear_model.Regressio...\n",
       "3   7622.560133  <statsmodels.regression.linear_model.Regressio...\n",
       "4   7548.078274  <statsmodels.regression.linear_model.Regressio...\n",
       "5   7503.496443  <statsmodels.regression.linear_model.Regressio...\n",
       "6   7500.762698  <statsmodels.regression.linear_model.Regressio...\n",
       "7   7499.855863  <statsmodels.regression.linear_model.Regressio...\n",
       "8   7498.993753  <statsmodels.regression.linear_model.Regressio...\n",
       "9   7498.971127  <statsmodels.regression.linear_model.Regressio...\n",
       "10  7498.959617  <statsmodels.regression.linear_model.Regressio..."
      ]
     },
     "execution_count": 66,
     "metadata": {},
     "output_type": "execute_result"
    }
   ],
   "source": [
    "# view the dataframe and see the RSS value for\n",
    "# the best for each number of features\n",
    "models2"
   ]
  },
  {
   "cell_type": "code",
   "execution_count": 67,
   "metadata": {
    "scrolled": true
   },
   "outputs": [
    {
     "name": "stdout",
     "output_type": "stream",
     "text": [
      "                            OLS Regression Results                            \n",
      "==============================================================================\n",
      "Dep. Variable:       SeriousDlqin2yrs   R-squared:                       0.068\n",
      "Model:                            OLS   Adj. R-squared:                  0.067\n",
      "Method:                 Least Squares   F-statistic:                     4353.\n",
      "Date:                Mon, 19 Mar 2018   Prob (F-statistic):               0.00\n",
      "Time:                        20:48:53   Log-Likelihood:                -6094.6\n",
      "No. Observations:              120269   AIC:                         1.219e+04\n",
      "Df Residuals:                  120267   BIC:                         1.221e+04\n",
      "Df Model:                           2                                         \n",
      "Covariance Type:            nonrobust                                         \n",
      "========================================================================================================\n",
      "                                           coef    std err          t      P>|t|      [0.025      0.975]\n",
      "--------------------------------------------------------------------------------------------------------\n",
      "age                                      0.0011   1.38e-05     77.017      0.000       0.001       0.001\n",
      "NumberOfTime30-59DaysPastDueNotWorse     0.0095      0.000     45.440      0.000       0.009       0.010\n",
      "==============================================================================\n",
      "Omnibus:                    79827.278   Durbin-Watson:                   1.989\n",
      "Prob(Omnibus):                  0.000   Jarque-Bera (JB):           671984.733\n",
      "Skew:                           3.322   Prob(JB):                         0.00\n",
      "Kurtosis:                      12.484   Cond. No.                         15.2\n",
      "==============================================================================\n",
      "\n",
      "Warnings:\n",
      "[1] Standard Errors assume that the covariance matrix of the errors is correctly specified.\n"
     ]
    }
   ],
   "source": [
    "print(models2.loc[2, \"model\"].summary())"
   ]
  },
  {
   "cell_type": "markdown",
   "metadata": {},
   "source": [
    "Again, the best variables for 2 variable combination are 'NumberOfTime30-59DaysPastDueNotWorse' and 'age'. We can also access individual scores by using the score method for each model. Let's look at the rsquared values."
   ]
  },
  {
   "cell_type": "code",
   "execution_count": 71,
   "metadata": {},
   "outputs": [
    {
     "name": "stdout",
     "output_type": "stream",
     "text": [
      "r-squared for 1 variable(s): 0.051499135990021094\n",
      "r-squared for 2 variable(s): 0.06750882462690821\n",
      "r-squared for 3 variable(s): 0.08788319581617876\n",
      "r-squared for 4 variable(s): 0.09679570726366216\n",
      "r-squared for 5 variable(s): 0.10213037657774626\n",
      "r-squared for 6 variable(s): 0.10245749692144424\n",
      "r-squared for 7 variable(s): 0.10256600898004253\n",
      "r-squared for 8 variable(s): 0.10266916924921698\n",
      "r-squared for 9 variable(s): 0.10267187661327448\n",
      "r-squared for 10 variable(s): 0.10267325394267535\n"
     ]
    }
   ],
   "source": [
    "# get rsquared scores for each best model \n",
    "# with features chosen using forward selection\n",
    "for i in range(1,11):\n",
    "    print(\"r-squared for {} variable(s): {}\".format(i,models2.loc[i,'model'].rsquared))"
   ]
  },
  {
   "cell_type": "markdown",
   "metadata": {},
   "source": [
    "# 2. Model estimation"
   ]
  },
  {
   "cell_type": "markdown",
   "metadata": {},
   "source": [
    "Most simple models can be called from the scikit-learn library. Note that the algorithms require you to have numerical values for all the data fitted. This means you might need to use methods like one-hot coding to encode categorical variables. The dummy dataset and the credit scoring dataset used here contain only numerical variables, so no further pre-processing (except scaling for scale sensitive models) are necessary."
   ]
  },
  {
   "cell_type": "markdown",
   "metadata": {},
   "source": [
    "## 2-1. Training a linear model"
   ]
  },
  {
   "cell_type": "code",
   "execution_count": 72,
   "metadata": {
    "collapsed": true
   },
   "outputs": [],
   "source": [
    "# dummy example to show linear regression\n",
    "annual_income = np.arange(1,6).reshape(-1, 1)\n",
    "credit_score = np.array([1,1.8,4,4.2,4.5])\n",
    "test_income = np.array([2.5]).reshape(-1, 1)"
   ]
  },
  {
   "cell_type": "code",
   "execution_count": 73,
   "metadata": {},
   "outputs": [
    {
     "name": "stdout",
     "output_type": "stream",
     "text": [
      "Predicted credit score for John with 2.5 income level: [2.63]\n"
     ]
    }
   ],
   "source": [
    "# import linear regression function\n",
    "from sklearn.linear_model import LinearRegression\n",
    "\n",
    "# initiate linear regression model\n",
    "linear_model = LinearRegression()\n",
    "\n",
    "# fit training data to initiated linear model above\n",
    "linear_model.fit(annual_income, credit_score)\n",
    "\n",
    "# predict target value using test feature data\n",
    "predicted = linear_model.predict(test_income)\n",
    "print(\"Predicted credit score for John with 2.5 income level:\",predicted)"
   ]
  },
  {
   "cell_type": "code",
   "execution_count": 74,
   "metadata": {},
   "outputs": [
    {
     "name": "stdout",
     "output_type": "stream",
     "text": [
      "coefficient of annual income: [0.94]\n",
      "intercept of model: 0.27999999999999936\n",
      "\n",
      "regression function:\n",
      "Credit score = (annual income * 0.94) + 0.28\n"
     ]
    }
   ],
   "source": [
    "# view linear model\n",
    "print(\"coefficient of annual income:\",linear_model.coef_)\n",
    "print(\"intercept of model:\",linear_model.intercept_)\n",
    "print(\"\\nregression function:\")\n",
    "print(\"Credit score = (annual income * {:0.2f}) + {:0.2f}\".format(linear_model.coef_[0],\n",
    "                                                        linear_model.intercept_))"
   ]
  },
  {
   "cell_type": "code",
   "execution_count": 75,
   "metadata": {},
   "outputs": [
    {
     "data": {
      "image/png": "[encoded data removed]",
      "text/plain": [
       "<matplotlib.figure.Figure at 0x1c85fed320>"
      ]
     },
     "metadata": {},
     "output_type": "display_data"
    }
   ],
   "source": [
    "# visualize linear regression result using matplotlib\n",
    "plt.figure(figsize = (12, 8))\n",
    "predicted_regline = linear_model.predict(np.array([1,2,3,4,5]).reshape(-1,1))\n",
    "plt.scatter(credit_score, annual_income.flatten(), s = 100)\n",
    "plt.plot([1,2,3,4,5], predicted_regline, linestyle = \"--\")\n",
    "plt.plot([2.5], predicted, marker='o', markersize=10, color=\"red\")\n",
    "plt.title(\"Predicting credit score based on annual income\",fontsize = 20)\n",
    "plt.xlabel(\"Annual income\", fontsize = 16)\n",
    "plt.ylabel(\"Credit score\", fontsize = 16)\n",
    "plt.show()"
   ]
  },
  {
   "cell_type": "markdown",
   "metadata": {},
   "source": [
    "## 2-2. Comparing different classification algorithms"
   ]
  },
  {
   "cell_type": "code",
   "execution_count": 24,
   "metadata": {
    "collapsed": true
   },
   "outputs": [],
   "source": [
    "# import libraries needed to import classification algorithms and compare performances\n",
    "from sklearn.linear_model import LogisticRegression\n",
    "from sklearn.discriminant_analysis import LinearDiscriminantAnalysis\n",
    "from sklearn.tree import DecisionTreeClassifier\n",
    "from sklearn.neural_network import MLPClassifier\n",
    "from sklearn.ensemble import RandomForestClassifier\n",
    "from sklearn.model_selection import cross_val_score # for performance scores"
   ]
  },
  {
   "cell_type": "code",
   "execution_count": 27,
   "metadata": {},
   "outputs": [],
   "source": [
    "# divide into X and y using only complete cases\n",
    "train_complete = train.dropna(axis = 0)\n",
    "test = test.drop('SeriousDlqin2yrs', axis = 1)\n",
    "test_complete = test.dropna(axis = 0)\n",
    "y = train_complete.SeriousDlqin2yrs\n",
    "X = train_complete.drop('SeriousDlqin2yrs', axis = 1)\n",
    "\n",
    "# standardize features as some features are sensitive to scales\n",
    "from sklearn.preprocessing import StandardScaler\n",
    "\n",
    "# transform values using scaler\n",
    "scaler = StandardScaler()\n",
    "Xt = scaler.fit_transform(X)\n",
    "test_t = scaler.fit_transform(test_complete)"
   ]
  },
  {
   "cell_type": "code",
   "execution_count": 28,
   "metadata": {
    "collapsed": true
   },
   "outputs": [],
   "source": [
    "# createfunction to print out performance of model\n",
    "def classification_crossvalscore(model, x, y):\n",
    "    acc = cross_val_score(model, x, y, scoring = 'accuracy', cv = 5)\n",
    "    prec = cross_val_score(model, x, y, scoring = 'precision', cv = 5)\n",
    "    recall = cross_val_score(model, x, y, scoring = 'recall', cv = 5)\n",
    "    rocauc = cross_val_score(model, x, y, scoring = 'roc_auc', cv = 5)\n",
    "    return acc, prec, recall, rocauc"
   ]
  },
  {
   "cell_type": "code",
   "execution_count": 29,
   "metadata": {},
   "outputs": [
    {
     "name": "stdout",
     "output_type": "stream",
     "text": [
      "time taken to fit and predict values: 1.7898459434509277\n",
      "accuracy score(TP/N): 0.9309880509406137\n",
      "precision score(TP/(TP+FP)): 0.5203227366666109\n",
      "recall score(TP/(TP+FN)): 0.092018646256575\n",
      "rocauc score(rocaucarea): 0.6865558416311142\n"
     ]
    }
   ],
   "source": [
    "# Linear discriminant analysis\n",
    "\n",
    "lda = LinearDiscriminantAnalysis().fit(X,y)\n",
    "\n",
    "# compute performance metrics for classification result\n",
    "# measure time of fitting and prediction\n",
    "start_time = time.time()\n",
    "acc, prec, recall, rocauc = classification_crossvalscore(lda, X, y)\n",
    "end_time = time.time()\n",
    "print(\"time taken to fit and predict values:\", end_time - start_time)\n",
    "print(\"accuracy score(TP/N):\", np.mean(acc))\n",
    "print(\"precision score(TP/(TP+FP)):\", np.mean(prec))\n",
    "print(\"recall score(TP/(TP+FN)):\", np.mean(recall))\n",
    "print(\"rocauc score(rocaucarea):\", np.mean(rocauc))"
   ]
  },
  {
   "cell_type": "code",
   "execution_count": 30,
   "metadata": {},
   "outputs": [
    {
     "data": {
      "text/plain": [
       "NumberOfTime30-59DaysPastDueNotWorse    0.810844\n",
       "NumberOfTimes90DaysLate                 0.780351\n",
       "NumberOfDependents                      0.085930\n",
       "NumberRealEstateLoansOrLines            0.030234\n",
       "MonthlyIncome                          -0.000005\n",
       "DebtRatio                              -0.000032\n",
       "RevolvingUtilizationOfUnsecuredLines   -0.000044\n",
       "NumberOfOpenCreditLinesAndLoans        -0.010466\n",
       "age                                    -0.024083\n",
       "NumberOfTime60-89DaysPastDueNotWorse   -1.474621\n",
       "dtype: float64"
      ]
     },
     "execution_count": 30,
     "metadata": {},
     "output_type": "execute_result"
    }
   ],
   "source": [
    "# list of variable coefficients of LDA\n",
    "pd.Series(lda.coef_[0], X.columns).sort_values(ascending = False)"
   ]
  },
  {
   "cell_type": "code",
   "execution_count": 31,
   "metadata": {},
   "outputs": [
    {
     "name": "stdout",
     "output_type": "stream",
     "text": [
      "time taken to fit and predict values: 5.566438913345337\n",
      "accuracy score(TP/N): 0.9311792821407703\n",
      "precision score(TP/(TP+FP)): 0.5773557830210695\n",
      "recall score(TP/(TP+FN)): 0.03745393555702542\n",
      "rocauc score(rocaucarea): 0.6909150899527043\n"
     ]
    }
   ],
   "source": [
    "# logistic regression\n",
    "logit = LogisticRegression().fit(Xt,y)\n",
    "\n",
    "# compute performance metrics for classification result\n",
    "# measure time of fitting and prediction\n",
    "start_time = time.time()\n",
    "acc, prec, recall, rocauc = classification_crossvalscore(logit, Xt, y)\n",
    "end_time = time.time()\n",
    "print(\"time taken to fit and predict values:\", end_time - start_time)\n",
    "print(\"accuracy score(TP/N):\", np.mean(acc))\n",
    "print(\"precision score(TP/(TP+FP)):\", np.mean(prec))\n",
    "print(\"recall score(TP/(TP+FN)):\", np.mean(recall))\n",
    "print(\"rocauc score(rocaucarea):\", np.mean(rocauc))"
   ]
  },
  {
   "cell_type": "code",
   "execution_count": 32,
   "metadata": {},
   "outputs": [
    {
     "data": {
      "text/plain": [
       "NumberOfTime30-59DaysPastDueNotWorse    1.744670\n",
       "NumberOfTimes90DaysLate                 1.519327\n",
       "NumberOfDependents                      0.118865\n",
       "NumberRealEstateLoansOrLines            0.096606\n",
       "RevolvingUtilizationOfUnsecuredLines   -0.014678\n",
       "NumberOfOpenCreditLinesAndLoans        -0.026388\n",
       "DebtRatio                              -0.064146\n",
       "age                                    -0.363024\n",
       "MonthlyIncome                          -0.604661\n",
       "NumberOfTime60-89DaysPastDueNotWorse   -3.104800\n",
       "dtype: float64"
      ]
     },
     "execution_count": 32,
     "metadata": {},
     "output_type": "execute_result"
    }
   ],
   "source": [
    "# list of variable coefficients of logistic regression\n",
    "pd.Series(logit.coef_[0], X.columns).sort_values(ascending = False)"
   ]
  },
  {
   "cell_type": "code",
   "execution_count": 33,
   "metadata": {},
   "outputs": [
    {
     "data": {
      "text/plain": [
       "array([[0.79325201, 0.20674799],\n",
       "       [0.92440668, 0.07559332],\n",
       "       [0.83593448, 0.16406552],\n",
       "       ...,\n",
       "       [0.92705849, 0.07294151],\n",
       "       [0.92319457, 0.07680543],\n",
       "       [0.96433081, 0.03566919]])"
      ]
     },
     "execution_count": 33,
     "metadata": {},
     "output_type": "execute_result"
    }
   ],
   "source": [
    "# you can look at probability of each of the individuals too\n",
    "# each array is a probabilty assigned for each row\n",
    "# where the first value is the probability for 0 (i.e., not default probability)\n",
    "# and the second value is the probability for 1 (i.e., default probability)\n",
    "logit.predict_proba(Xt)"
   ]
  },
  {
   "cell_type": "code",
   "execution_count": 34,
   "metadata": {
    "scrolled": true
   },
   "outputs": [
    {
     "name": "stdout",
     "output_type": "stream",
     "text": [
      "time taken to fit and predict values: 17.364422082901\n",
      "accuracy score(TP/N): 0.8925325774769381\n",
      "precision score(TP/(TP+FP)): 0.25218901773313707\n",
      "recall score(TP/(TP+FN)): 0.2750999315654895\n",
      "rocauc score(rocaucarea): 0.6053987560593382\n"
     ]
    }
   ],
   "source": [
    "# DT classifier\n",
    "dt = DecisionTreeClassifier().fit(X,y)\n",
    "\n",
    "# compute performance metrics for classification result\n",
    "# measure time of fitting and prediction\n",
    "start_time = time.time()\n",
    "acc, prec, recall, rocauc = classification_crossvalscore(dt, X, y)\n",
    "end_time = time.time()\n",
    "print(\"time taken to fit and predict values:\", end_time - start_time)\n",
    "print(\"accuracy score(TP/N):\", np.mean(acc))\n",
    "print(\"precision score(TP/(TP+FP)):\", np.mean(prec))\n",
    "print(\"recall score(TP/(TP+FN)):\", np.mean(recall))\n",
    "print(\"rocauc score(rocaucarea):\", np.mean(rocauc))"
   ]
  },
  {
   "cell_type": "code",
   "execution_count": 36,
   "metadata": {},
   "outputs": [
    {
     "data": {
      "text/plain": [
       "RevolvingUtilizationOfUnsecuredLines    0.191398\n",
       "DebtRatio                               0.189313\n",
       "MonthlyIncome                           0.173623\n",
       "NumberOfTimes90DaysLate                 0.121591\n",
       "age                                     0.113162\n",
       "NumberOfOpenCreditLinesAndLoans         0.078357\n",
       "NumberOfDependents                      0.042559\n",
       "NumberOfTime30-59DaysPastDueNotWorse    0.035750\n",
       "NumberRealEstateLoansOrLines            0.031421\n",
       "NumberOfTime60-89DaysPastDueNotWorse    0.022825\n",
       "dtype: float64"
      ]
     },
     "execution_count": 36,
     "metadata": {},
     "output_type": "execute_result"
    }
   ],
   "source": [
    "# access variable importance\n",
    "pd.Series(dt.feature_importances_, X.columns).sort_values(ascending = False)"
   ]
  },
  {
   "cell_type": "code",
   "execution_count": 37,
   "metadata": {},
   "outputs": [
    {
     "data": {
      "text/plain": [
       "\"from sklearn.externals.six import StringIO\\nfrom IPython.display import Image\\nfrom sklearn.tree import export_graphviz\\nimport pydotplus\\nimport graphviz\\n\\ndot_data = StringIO()\\ngraph = export_graphviz(dt, out_file=dot_data, \\n                         feature_names=X.columns,  \\n                         class_names=['not_default', 'default'],  \\n                         filled=True, rounded=True,  \\n                         special_characters=True)\\ngraph = pydotplus.graph_from_dot_data(dot_data.getvalue())\\nImage(graph.create_png())\""
      ]
     },
     "execution_count": 37,
     "metadata": {},
     "output_type": "execute_result"
    }
   ],
   "source": [
    "# you can also export the visualized decision tree classifier\n",
    "# as a png file or a pdf file\n",
    "# uncomment the codes below to view the tree image\n",
    "\n",
    "'''from sklearn.externals.six import StringIO\n",
    "from IPython.display import Image\n",
    "from sklearn.tree import export_graphviz\n",
    "import pydotplus\n",
    "import graphviz\n",
    "\n",
    "dot_data = StringIO()\n",
    "graph = export_graphviz(dt, out_file=dot_data, \n",
    "                         feature_names=X.columns,  \n",
    "                         class_names=['not_default', 'default'],  \n",
    "                         filled=True, rounded=True,  \n",
    "                         special_characters=True)\n",
    "graph = pydotplus.graph_from_dot_data(dot_data.getvalue())\n",
    "Image(graph.create_png())'''"
   ]
  },
  {
   "cell_type": "code",
   "execution_count": 38,
   "metadata": {},
   "outputs": [
    {
     "name": "stdout",
     "output_type": "stream",
     "text": [
      "time taken to fit and predict values: 157.77098393440247\n",
      "accuracy score(TP/N): 0.9339314649870367\n",
      "precision score(TP/(TP+FP)): 0.5848528042091627\n",
      "recall score(TP/(TP+FN)): 0.17255260724031393\n",
      "rocauc score(rocaucarea): 0.8229550476915947\n"
     ]
    }
   ],
   "source": [
    "# NN: MLP classifier\n",
    "# MLP is also sensitive to scaling, so use the scaled data\n",
    "nn = MLPClassifier().fit(Xt,y)\n",
    "\n",
    "# compute performance metrics for classification result\n",
    "# measure time of fitting and prediction\n",
    "start_time = time.time()\n",
    "acc, prec, recall, rocauc = classification_crossvalscore(nn, Xt, y)\n",
    "end_time = time.time()\n",
    "print(\"time taken to fit and predict values:\", end_time - start_time)\n",
    "print(\"accuracy score(TP/N):\", np.mean(acc))\n",
    "print(\"precision score(TP/(TP+FP)):\", np.mean(prec))\n",
    "print(\"recall score(TP/(TP+FN)):\", np.mean(recall))\n",
    "print(\"rocauc score(rocaucarea):\", np.mean(rocauc))"
   ]
  },
  {
   "cell_type": "code",
   "execution_count": 39,
   "metadata": {},
   "outputs": [
    {
     "name": "stdout",
     "output_type": "stream",
     "text": [
      "time taken to fit and predict values: 33.62950611114502\n",
      "accuracy score(TP/N): 0.9307801835762763\n",
      "precision score(TP/(TP+FP)): 0.5012133279325248\n",
      "recall score(TP/(TP+FN)): 0.1609432938474798\n",
      "rocauc score(rocaucarea): 0.7718011921194243\n"
     ]
    }
   ],
   "source": [
    "# Random forest classification\n",
    "rf = RandomForestClassifier().fit(X,y)\n",
    "\n",
    "# compute performance metrics for classification result\n",
    "# measure time of fitting and prediction\n",
    "start_time = time.time()\n",
    "acc, prec, recall, rocauc = classification_crossvalscore(rf, X, y)\n",
    "end_time = time.time()\n",
    "print(\"time taken to fit and predict values:\", end_time - start_time)\n",
    "print(\"accuracy score(TP/N):\", np.mean(acc))\n",
    "print(\"precision score(TP/(TP+FP)):\", np.mean(prec))\n",
    "print(\"recall score(TP/(TP+FN)):\", np.mean(recall))\n",
    "print(\"rocauc score(rocaucarea):\", np.mean(rocauc))"
   ]
  },
  {
   "cell_type": "code",
   "execution_count": 40,
   "metadata": {},
   "outputs": [
    {
     "data": {
      "text/plain": [
       "RevolvingUtilizationOfUnsecuredLines    0.195686\n",
       "DebtRatio                               0.175643\n",
       "MonthlyIncome                           0.164850\n",
       "age                                     0.121204\n",
       "NumberOfOpenCreditLinesAndLoans         0.087920\n",
       "NumberOfTimes90DaysLate                 0.084851\n",
       "NumberOfTime30-59DaysPastDueNotWorse    0.050414\n",
       "NumberOfDependents                      0.045986\n",
       "NumberOfTime60-89DaysPastDueNotWorse    0.040032\n",
       "NumberRealEstateLoansOrLines            0.033414\n",
       "dtype: float64"
      ]
     },
     "execution_count": 40,
     "metadata": {},
     "output_type": "execute_result"
    }
   ],
   "source": [
    "# list of variable coefficients of random forest classifier\n",
    "pd.Series(rf.feature_importances_, X.columns).sort_values(ascending = False)"
   ]
  }
 ],
 "metadata": {
  "kernelspec": {
   "display_name": "Python 3",
   "language": "python",
   "name": "python3"
  },
  "language_info": {
   "codemirror_mode": {
    "name": "ipython",
    "version": 3
   },
   "file_extension": ".py",
   "mimetype": "text/x-python",
   "name": "python",
   "nbconvert_exporter": "python",
   "pygments_lexer": "ipython3",
   "version": "3.6.1"
  }
 },
 "nbformat": 4,
 "nbformat_minor": 2
}
